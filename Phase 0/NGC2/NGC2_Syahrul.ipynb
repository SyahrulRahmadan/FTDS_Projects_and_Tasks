{
 "cells": [
  {
   "cell_type": "markdown",
   "metadata": {},
   "source": [
    "## Task #1 - Number of Word\n",
    "\n",
    "Create a function that count the number of word in a sentence.\n",
    "Instruction:\n",
    "\n",
    "1. Create function called `number_of_word`.\n",
    "2. This function takes 1 input, `sentence`.\n",
    "3. Inside this function, you can utilize `.split()` method to split the sentence into list of word(s).\n",
    "4. Also, `len()` function to count the element inside a list.\n",
    "5. Return the number of word from the sentence.\n",
    "\n",
    "Example:\n",
    "- Input: number_of_word(sentence = ’Hello World!’)\n",
    "- Output: 2\n",
    "\n",
    "- Input: number_of_word(sentence = ’Once Upon a Time in a faraway land’)\n",
    "- Output: 8\n"
   ]
  },
  {
   "cell_type": "code",
   "execution_count": 17,
   "metadata": {},
   "outputs": [
    {
     "name": "stdout",
     "output_type": "stream",
     "text": [
      "aku mau makan nasi goreng\n",
      "Kata yang masuk dalam array  ['aku', 'mau', 'makan', 'nasi', 'goreng']\n",
      "Jumlah kata adalah:  5\n"
     ]
    }
   ],
   "source": [
    "#Using inputs so i can imputs whatever i want freely\n",
    "x = input(\"Masukkan kata: \")\n",
    "print (x)\n",
    "\n",
    "#split the sentence into array like\n",
    "jumlah_kata = x.split()\n",
    "\n",
    "print (\"Kata yang masuk dalam array \", jumlah_kata)\n",
    "\n",
    "#count how many words in the sentence\n",
    "jumlah_kata_x = len(jumlah_kata)\n",
    "\n",
    "print (\"Jumlah kata adalah: \", jumlah_kata_x)"
   ]
  },
  {
   "cell_type": "markdown",
   "metadata": {},
   "source": [
    "## Task #2 - Find Multiple\n",
    "Create a function that will get list of number(s) from a certain range that multiples of given number.\n",
    "Instruction:\n",
    "1. Create function called `find_multiples`.\n",
    "2. This function takes 3 input: `start_range`, `end_range`, and `multiple`.\n",
    "3. From every number within the given range, check if that number is the mutliples of `multiple`.\n",
    "4. Return list of the possible multiple number(s).\n",
    "\n",
    "Example:\n",
    "\n",
    "- Input: find_multiple(start_range= 1, end_range= 20, multiple= 5)\n",
    "- Output: [5, 10, 15, 20]\n",
    "\n",
    "- Input: find_multiple(start_range= 1, end_range= 50, multiple= 10)\n",
    "- Output: [10, 20, 30, 40, 50]5"
   ]
  },
  {
   "cell_type": "code",
   "execution_count": 38,
   "metadata": {},
   "outputs": [
    {
     "name": "stdout",
     "output_type": "stream",
     "text": [
      "[5, 10, 15, 20, 25, 30, 35, 40, 45]\n"
     ]
    }
   ],
   "source": [
    "#inputs\n",
    "a = input('input range awal:')\n",
    "a = int(a)\n",
    "b = input('input range akhir:')\n",
    "b = int(b)\n",
    "c = input('input angka untuk multiple:')\n",
    "c = int(c)\n",
    "\n",
    "#function using def\n",
    "def find_multiples(start_range, end_range, multiple):\n",
    "    result = []\n",
    "    for i in range(start_range, end_range+1):\n",
    "        if i % multiple == 0:\n",
    "            result.append(i)\n",
    "    return result\n",
    "print(find_multiples(start_range= a, end_range= b, multiple= c))\n",
    "\n",
    "# Don't mind this but if someone really interedted using lamda instead of 'def' and lamda is so much easier than 'def'\n",
    "# print(find_multiples(start_range= a, end_range= b, multiple= c))\n",
    "# function using lamda\n",
    "# find_multiples = lambda start_range, end_range, multiple: [i for i in range(start_range, end_range+1) if i % multiple == 0]\n",
    "# print(find_multiples(start_range= a, end_range= b, multiple= c))"
   ]
  },
  {
   "cell_type": "markdown",
   "metadata": {},
   "source": [
    "## Task #3 - Grade Converter\n",
    "Create a function that will convert student’s grade to GPA.\n",
    "Instruction:\n",
    "1. Create function called `Grade_Converter`.\n",
    "2. This function takes input: `convert_to` and n-paired of student(s) name with its respective score.\n",
    "3. Input argument for `convert_to` is either `letter_grade` or `gpa`.\n",
    "4. You can utilize **kwargs input argument to generate n-length paired of student(s) name with its respective score (Dictionary).\n",
    "5. This function will return dictionary of student’s name along with converted Letter Grade or GPA, depending on user input in `convert_to` parameter\n",
    "\n",
    "| ScoreLetter | GradeGPA | 4.0 Scale |\n",
    "| --- | --- | --- |\n",
    "| 85-100 | A | 4 |\n",
    "| 70-84.99 | B | 3 |\n",
    "| 60-69.99 | C | 2.5 |\n",
    "| 50-59.99 | D | 2 |\n",
    "| 40-49.99 | E | 1.5 |\n",
    "| 0-39.99 | F | 1 |\n",
    "\n",
    "Example:\n",
    "- Input: Grade_Converter(convert_to='gpa', Adam=62, Faiz=91)\n",
    "- Output: {'Adam': 2.5, 'Faiz': 4}\n",
    "\n",
    "- Input: Grade_Converter(convert_to='letter_grade', Albert=90, Dwi=82, Syahdan=58, Veronica=84)\n",
    "- Output: {'Albert': 'A', 'Dwi': 'B', 'Syahdan': 'D','Veronica': 'B'"
   ]
  },
  {
   "cell_type": "code",
   "execution_count": 18,
   "metadata": {},
   "outputs": [
    {
     "name": "stdout",
     "output_type": "stream",
     "text": [
      "{'Adam': 2.5, 'Faiz': 4}\n",
      "{'Albert': 'A', 'Dwi': 'B', 'Syahdan': 'D', 'Veronica': 'B'}\n",
      "Nilai Hacktiv8:  {'Syahrul': 4, 'Faris': 4} {'Syahrul': 'A', 'Faris': 'A'}\n"
     ]
    }
   ],
   "source": [
    "#inputs\n",
    "\n",
    "#define function \"grade\"\n",
    "def grade (convert_to, **kwargs):\n",
    "    #using conditional for input (gpa/letter_grade)\n",
    "    if convert_to == 'gpa':\n",
    "        return {name: 4 if score >= 85 else 3 if score >= 70 else 2.5 if score >= 60 else 2 if score >= 50 else 1.5 if score >= 40 else 1 for name, score in kwargs.items()}\n",
    "    elif convert_to == 'letter_grade':\n",
    "        return {name: 'A' if score >= 85 else 'B' if score >= 70 else 'C' if score >= 60 else 'D' if score >= 50 else 'E' if score >= 40 else 'F' for name, score in kwargs.items()}\n",
    "    #if there's none any of aboive, return it to error\n",
    "    else:\n",
    "        return 'Invalid Input'\n",
    "\n",
    "#print from the function \"grade\"\n",
    "print(grade(convert_to='gpa', Adam=62, Faiz=91))\n",
    "print(grade(convert_to='letter_grade', Albert=90, Dwi=82, Syahdan=58, Veronica=84))\n",
    "print(\"Nilai Hacktiv8: \", grade(convert_to='gpa', Syahrul=90, Faris=100), grade(convert_to='letter_grade', Syahrul=90, Faris=100))"
   ]
  },
  {
   "cell_type": "markdown",
   "metadata": {},
   "source": [
    "## Task #4 - Fibonacci Sequence\n",
    "Fibonacci sequence is a sequence in which each number is the sum of the two preceding ones. \n",
    "create a function that will return the value of n-th fibonacci number.\n",
    "Instruction:\n",
    "1. The function will take 1 input parameter, n, represents the asked number from our fibonacci sequence index.\n",
    "2. The fibonacci sequence will start with the value of 0 and 1.\n",
    "3. This function will return the n-th value from fibonacci sequence.\n",
    "\n",
    "example:\n",
    "- Input: my_function(n=0)\n",
    "- Output: 0\n",
    "\n",
    "- Input: my_function(n=4)\n",
    "- Output: 3\n",
    "\n",
    "- Input: my_function(n=10)\n",
    "- Output: 55"
   ]
  },
  {
   "cell_type": "code",
   "execution_count": 47,
   "metadata": {},
   "outputs": [
    {
     "name": "stdout",
     "output_type": "stream",
     "text": [
      "bilangan  10\n",
      "bila dikonversi menjadi bilangan fibonacci adalah :\n",
      "55\n"
     ]
    }
   ],
   "source": [
    "#input\n",
    "n = input('input angka:')\n",
    "n = int(n)\n",
    "\n",
    "print(\"bilangan \", n)\n",
    "\n",
    "#define fungsi fibonacci\n",
    "def fibonacci(n):\n",
    "    if n == 0:\n",
    "        return 0\n",
    "    elif n == 1:\n",
    "        return 1\n",
    "    else:\n",
    "        return fibonacci(n-1) + fibonacci(n-2)\n",
    "\n",
    "#cetak fibonacci\n",
    "\n",
    "print(\"bila dikonversi menjadi bilangan fibonacci adalah :\")\n",
    "print(fibonacci(n))"
   ]
  }
 ],
 "metadata": {
  "kernelspec": {
   "display_name": "Python 3",
   "language": "python",
   "name": "python3"
  },
  "language_info": {
   "codemirror_mode": {
    "name": "ipython",
    "version": 3
   },
   "file_extension": ".py",
   "mimetype": "text/x-python",
   "name": "python",
   "nbconvert_exporter": "python",
   "pygments_lexer": "ipython3",
   "version": "3.11.5"
  }
 },
 "nbformat": 4,
 "nbformat_minor": 2
}
