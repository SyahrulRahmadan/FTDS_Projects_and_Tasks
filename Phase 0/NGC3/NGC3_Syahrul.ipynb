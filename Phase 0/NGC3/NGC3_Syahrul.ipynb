{
 "cells": [
  {
   "cell_type": "markdown",
   "metadata": {},
   "source": [
    "## NGC3 TASK\n",
    "Create a library catalog system using OOP. The system should allow users to add books to the catalog, search for books by title or author, and remove books from the catalog.\n",
    "\n",
    "Requirements:\n",
    "1. Each book should have a title, author, and unique identifier\n",
    "2. The system should provide the following functionality:\n",
    "- Adding a book to the catalog.\n",
    "- Searching for books by title or author.\n",
    "- Removing a book from the catalog.\n",
    "- Displaying all books in the catalog.\n",
    "3. Do the exception handling\n",
    "\n",
    "\n",
    "## SUBMISSION\n",
    "1. Create a file to store your answers. \n",
    "2. Save this assignment with filename : h8dsft_oop.ipynb\n",
    "3. Push your answer into your own GitHub repository.\n"
   ]
  },
  {
   "cell_type": "code",
   "execution_count": null,
   "metadata": {},
   "outputs": [],
   "source": [
    "class book:\n",
    "    \n",
    "class catalog:\n",
    "\n",
    "class __main__():"
   ]
  }
 ],
 "metadata": {
  "kernelspec": {
   "display_name": "base",
   "language": "python",
   "name": "python3"
  },
  "language_info": {
   "name": "python",
   "version": "3.11.5"
  }
 },
 "nbformat": 4,
 "nbformat_minor": 2
}
