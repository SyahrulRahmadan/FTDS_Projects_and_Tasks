{
 "cells": [
  {
   "cell_type": "markdown",
   "metadata": {},
   "source": [
    "## NGC3 TASK\n",
    "Create a library catalog system using OOP. The system should allow users to add books to the catalog, search for books by title or author, and remove books from the catalog.\n",
    "\n",
    "Requirements:\n",
    "1. Each book should have a title, author, and unique identifier\n",
    "2. The system should provide the following functionality:\n",
    "- Adding a book to the catalog.\n",
    "- Searching for books by title or author.\n",
    "- Removing a book from the catalog.\n",
    "- Displaying all books in the catalog.\n",
    "3. Do the exception handling\n",
    "\n",
    "\n",
    "## SUBMISSION\n",
    "1. Create a file to store your answers. \n",
    "2. Save this assignment with filename : h8dsft_oop.ipynb\n",
    "3. Push your answer into your own GitHub repository.\n"
   ]
  },
  {
   "cell_type": "code",
   "execution_count": null,
   "metadata": {
    "vscode": {
     "languageId": "plaintext"
    }
   },
   "outputs": [],
   "source": []
  }
 ],
 "metadata": {
  "language_info": {
   "name": "python"
  }
 },
 "nbformat": 4,
 "nbformat_minor": 2
}
